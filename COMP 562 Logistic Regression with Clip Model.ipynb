{
 "cells": [
  {
   "cell_type": "code",
   "execution_count": 1,
   "id": "db349547",
   "metadata": {},
   "outputs": [],
   "source": [
    "import clip\n",
    "import torch\n",
    "from PIL import Image\n",
    "\n",
    "device = \"cuda\" if torch.cuda.is_available() else \"cpu\"\n",
    "\n",
    "model, preprocess = clip.load(\"ViT-B/32\", device=device)"
   ]
  },
  {
   "cell_type": "code",
   "execution_count": 2,
   "id": "00d2a324",
   "metadata": {},
   "outputs": [
    {
     "name": "stdout",
     "output_type": "stream",
     "text": [
      "19\n"
     ]
    }
   ],
   "source": [
    "import numpy as np \n",
    "import pandas as pd\n",
    "import tensorflow as tf\n",
    "from keras.preprocessing.image import load_img\n",
    "from keras.preprocessing.image import array_to_img\n",
    "import os\n",
    "\n",
    "data_dir = 'data'\n",
    "folder_path = f'{data_dir}/562Data V2 - Values.csv'\n",
    "df = pd.read_csv(folder_path)\n",
    "\n",
    "thumbnails_dir = f'{data_dir}/thumbnails-jpegs-v2'\n",
    "\n",
    "cats = df['Category'].nunique()\n",
    "print(cats)\n",
    "\n",
    "# defines quartiles for each unique category\n",
    "quartiles = df.groupby('Category')['View Count'].quantile([0.25, 0.5, 0.75]).unstack()\n",
    "\n",
    "def assign_quartile(category, view_count):\n",
    "    Q1 = quartiles.loc[category, 0.25]\n",
    "    Q2 = quartiles.loc[category, 0.5]\n",
    "    Q3 = quartiles.loc[category, 0.75]\n",
    "    \n",
    "    if view_count <= Q1:\n",
    "        return 1\n",
    "    elif view_count <= Q2:\n",
    "        return 2\n",
    "    elif view_count <= Q3:\n",
    "        return 3\n",
    "    else:\n",
    "        return 4\n",
    " \n",
    "X = []\n",
    "y = []\n",
    "titles = []\n",
    "categories = []\n",
    "\n",
    "    \n",
    "for img in os.listdir(thumbnails_dir):\n",
    "    img_path = os.path.join(thumbnails_dir, img)\n",
    "    loc = df.loc[df['Id'] == img[:-4]] ## locates the matching ids for images and corresponding feature in csv\n",
    "    if loc.empty:                      ## as some of our data has no matching ids, just skip and remove the data\n",
    "        os.remove(img_path)\n",
    "        \n",
    "    else:\n",
    "        if np.float32(np.asarray(loc['View Count'])[0]) > 0:\n",
    "            thumb = load_img(img_path)\n",
    "            thumb_256 = thumb.resize((256,256))         ## resize all images to 256 x 256, easier to work with in Conv2d\n",
    "            X.append(thumb_256)                       ## append all images as arrays to X\n",
    "            category = loc['Category'].iloc[0]           ## Extract single value from Series\n",
    "            categories.append(category)  # append category\n",
    "            titles.append(loc['Title'].iloc[0])  # append title\n",
    "            y.append(assign_quartile(category, np.float32(np.asarray(loc['View Count'])[0])))  ## compute quartile & save\n",
    "assert(len(y) == len(X))"
   ]
  },
  {
   "cell_type": "code",
   "execution_count": 3,
   "id": "6821cdc5",
   "metadata": {},
   "outputs": [],
   "source": [
    "text = clip.tokenize(titles).to(device) ## tokenize using clip\n",
    "\n",
    "with torch.no_grad():                   ## encodes images and titles using clip, using lots of toList because clip outputs tensors\n",
    "    encoded_images = [] \n",
    "    for images in X:\n",
    "        features = model.encode_image(preprocess(images).unsqueeze(0).to(device)).tolist()\n",
    "        encoded_images.append(features)\n",
    "    \n",
    "    encoded_texts = model.encode_text(text)\n",
    "\n",
    "\n",
    "# One-hot encoding for categories\n",
    "categories_one_hot = pd.get_dummies(categories)\n",
    "categories_one_hot_array = categories_one_hot.values\n",
    "\n"
   ]
  },
  {
   "cell_type": "code",
   "execution_count": 43,
   "id": "f5959849",
   "metadata": {},
   "outputs": [
    {
     "data": {
      "text/plain": [
       "(3196, 512)"
      ]
     },
     "execution_count": 43,
     "metadata": {},
     "output_type": "execute_result"
    }
   ],
   "source": [
    "image_features = []\n",
    "for image in encoded_images:     ## creates list of 512 features per image\n",
    "    flat_image = [x for xs in image for x in xs]\n",
    "    image_features.append(flat_image)\n",
    "    \n",
    "np.array(image_features).shape  ## should be # of samples x 512 features"
   ]
  },
  {
   "cell_type": "code",
   "execution_count": 55,
   "id": "bdde1dc8",
   "metadata": {},
   "outputs": [],
   "source": [
    "\n",
    "all_features = []\n",
    "for i in range(len(image_features)):        ## append all features in single list: [512 image features, 512 text features, 19 category features]\n",
    "    features_1043 = image_features[0] + encoded_texts[0].tolist()\n",
    "    for cat in categories_one_hot_array[0]:\n",
    "        features_1043.append(np.float32(cat))\n",
    "    all_features.append(features_1043)\n",
    "\n",
    "np.array(all_features).shape ## should be # of samples x 1043 features"
   ]
  },
  {
   "cell_type": "code",
   "execution_count": 57,
   "id": "db6a2559",
   "metadata": {},
   "outputs": [
    {
     "name": "stdout",
     "output_type": "stream",
     "text": [
      "Cross Validation Scores:  [0.271875   0.2456964  0.25508607 0.2629108  0.27543036]\n",
      "Average CV Score:  0.2621997261345853\n",
      "Number of CV Scores used in Average:  5\n"
     ]
    }
   ],
   "source": [
    "from sklearn.linear_model import LogisticRegression\n",
    "from sklearn.model_selection import train_test_split\n",
    "from sklearn.model_selection import KFold, cross_val_score\n",
    "\n",
    "classifier = LogisticRegression(random_state=123)\n",
    "\n",
    "k_folds = KFold(n_splits = 5)\n",
    "scores = cross_val_score(classifier, all_features, y, cv = k_folds)\n",
    "\n",
    "print(\"Cross Validation Scores: \", scores)\n",
    "print(\"Average CV Score: \", scores.mean())\n",
    "print(\"Number of CV Scores used in Average: \", len(scores))"
   ]
  },
  {
   "cell_type": "code",
   "execution_count": 58,
   "id": "e7fae42d",
   "metadata": {},
   "outputs": [
    {
     "name": "stdout",
     "output_type": "stream",
     "text": [
      "Cross Validation Scores:  [0.271875   0.2456964  0.25508607 0.2629108  0.24100156]\n",
      "Average CV Score:  0.25531396713615023\n",
      "Number of CV Scores used in Average:  5\n"
     ]
    }
   ],
   "source": [
    "from sklearn.ensemble import RandomForestClassifier\n",
    "\n",
    "tree = RandomForestClassifier(random_state = 123)\n",
    "\n",
    "k_folds = KFold(n_splits = 5)\n",
    "scores = cross_val_score(tree, all_features, y, cv = k_folds)\n",
    "\n",
    "print(\"Cross Validation Scores: \", scores)\n",
    "print(\"Average CV Score: \", scores.mean())\n",
    "print(\"Number of CV Scores used in Average: \", len(scores))"
   ]
  },
  {
   "cell_type": "code",
   "execution_count": null,
   "id": "5081ab02",
   "metadata": {},
   "outputs": [],
   "source": []
  }
 ],
 "metadata": {
  "kernelspec": {
   "display_name": "Python 3 (ipykernel)",
   "language": "python",
   "name": "python3"
  },
  "language_info": {
   "codemirror_mode": {
    "name": "ipython",
    "version": 3
   },
   "file_extension": ".py",
   "mimetype": "text/x-python",
   "name": "python",
   "nbconvert_exporter": "python",
   "pygments_lexer": "ipython3",
   "version": "3.11.5"
  }
 },
 "nbformat": 4,
 "nbformat_minor": 5
}
